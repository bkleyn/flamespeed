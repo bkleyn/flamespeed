{
 "cells": [
  {
   "cell_type": "markdown",
   "metadata": {
    "slideshow": {
     "slide_type": "-"
    }
   },
   "source": [
    "# Flamespeed \n",
    "\n",
    "#### Bernard Kleynhans, Tim Lee, Yaniv Toledano (Group 14)\n"
   ]
  },
  {
   "cell_type": "markdown",
   "metadata": {
    "slideshow": {
     "slide_type": "-"
    }
   },
   "source": [
    "***\n",
    "\n",
    "# 1. Installation\n",
    "\n",
    "**Flamespeed can easily be installed using PyPI**\n",
    "\n",
    "```bash\n",
    "pip install flamespeed\n",
    "```"
   ]
  },
  {
   "cell_type": "markdown",
   "metadata": {
    "slideshow": {
     "slide_type": "-"
    }
   },
   "source": [
    "# 2. Getting started"
   ]
  },
  {
   "cell_type": "markdown",
   "metadata": {},
   "source": [
    "### Import package"
   ]
  },
  {
   "cell_type": "code",
   "execution_count": 1,
   "metadata": {
    "collapsed": true
   },
   "outputs": [],
   "source": [
    "# import os\n",
    "# import sys\n",
    "# module_path = os.path.abspath(os.path.join('..'))\n",
    "# if module_path not in sys.path:\n",
    "#     sys.path.append(module_path)"
   ]
  },
  {
   "cell_type": "code",
   "execution_count": 2,
   "metadata": {
    "collapsed": true
   },
   "outputs": [],
   "source": [
    "from IPython.display import Image"
   ]
  },
  {
   "cell_type": "code",
   "execution_count": 3,
   "metadata": {
    "collapsed": true
   },
   "outputs": [],
   "source": [
    "from flamespeed import chemkin"
   ]
  },
  {
   "cell_type": "markdown",
   "metadata": {},
   "source": [
    "### Instantiate class and import reaction data"
   ]
  },
  {
   "cell_type": "code",
   "execution_count": 4,
   "metadata": {},
   "outputs": [
    {
     "name": "stdout",
     "output_type": "stream",
     "text": [
      "Number_of_reactions:3                     \n",
      "Number_of_species:6                     \n",
      "Number_of_reversible_reactions:0                     \n",
      "Reversible:No                     \n",
      "Reaction_type:Elementary                     \n",
      "Species_list:['H', 'O', 'OH', 'H2', 'H2O', 'O2']\n",
      "\n"
     ]
    }
   ],
   "source": [
    "fs = chemkin.ReactionRate()\n",
    "fs.read_XML('files/rxns_base.xml')\n",
    "print(fs)"
   ]
  },
  {
   "cell_type": "markdown",
   "metadata": {},
   "source": [
    "### Calculate reaction rate for system of elementary, irreversible reactions"
   ]
  },
  {
   "cell_type": "code",
   "execution_count": 5,
   "metadata": {},
   "outputs": [
    {
     "name": "stdout",
     "output_type": "stream",
     "text": [
      "Reaction rates:\n"
     ]
    },
    {
     "data": {
      "text/plain": [
       "['H: -9.7109E+04',\n",
       " 'O: 1.0111E+05',\n",
       " 'OH: 2.6978E+05',\n",
       " 'H2: -9.0335E+04',\n",
       " 'H2O: 4.0000E+03',\n",
       " 'O2: -1.8744E+05']"
      ]
     },
     "execution_count": 5,
     "metadata": {},
     "output_type": "execute_result"
    }
   ],
   "source": [
    "# Specie concentrations\n",
    "conc = [0.5, 1, 2, 2, 0, 1]\n",
    "\n",
    "# Set temperature\n",
    "fs.set_temp(750)\n",
    "\n",
    "# Reaction rate\n",
    "rate = fs.get_reaction_rate(conc)\n",
    "print(\"Reaction rates:\")\n",
    "[s + ': {0:1.4E}'.format(r) for s, r in zip(fs.species_list, rate)]"
   ]
  },
  {
   "cell_type": "markdown",
   "metadata": {},
   "source": [
    "### Mix it up with some reversible reactions"
   ]
  },
  {
   "cell_type": "code",
   "execution_count": 6,
   "metadata": {},
   "outputs": [
    {
     "name": "stdout",
     "output_type": "stream",
     "text": [
      "Number_of_reactions:11                     \n",
      "Number_of_species:8                     \n",
      "Number_of_reversible_reactions:2                     \n",
      "Reversible:Some                     \n",
      "Reaction_type:Elementary                     \n",
      "Species_list:['H', 'O', 'OH', 'H2', 'H2O', 'O2', 'HO2', 'H2O2']\n",
      "\n"
     ]
    }
   ],
   "source": [
    "# Instantiate class\n",
    "fs = chemkin.ReactionRate()\n",
    "fs.read_XML('files/rxns_mixed.xml')\n",
    "print(fs)"
   ]
  },
  {
   "cell_type": "code",
   "execution_count": 7,
   "metadata": {},
   "outputs": [
    {
     "name": "stdout",
     "output_type": "stream",
     "text": [
      "Reaction rates:\n"
     ]
    },
    {
     "data": {
      "text/plain": [
       "['H: -4.0624E+13',\n",
       " 'O: -3.2625E+13',\n",
       " 'OH: 6.0693E+13',\n",
       " 'H2: 6.2793E+12',\n",
       " 'H2O: 4.0622E+13',\n",
       " 'O2: 7.4728E+13',\n",
       " 'HO2: -1.0428E+14',\n",
       " 'H2O2: -4.7978E+12']"
      ]
     },
     "execution_count": 7,
     "metadata": {},
     "output_type": "execute_result"
    }
   ],
   "source": [
    "# Specie concentrations\n",
    "conc = [0.5, 1, 1, 2, 0, 1, 1, 2]\n",
    "\n",
    "# Set temperature\n",
    "fs.set_temp(250)\n",
    "\n",
    "# Reaction rate\n",
    "rate = fs.get_reaction_rate(conc)\n",
    "print(\"Reaction rates:\")\n",
    "[s + ': {0:1.4E}'.format(r) for s, r in zip(fs.species_list, rate)]"
   ]
  },
  {
   "cell_type": "markdown",
   "metadata": {},
   "source": [
    "### And some other species"
   ]
  },
  {
   "cell_type": "code",
   "execution_count": 8,
   "metadata": {},
   "outputs": [
    {
     "name": "stdout",
     "output_type": "stream",
     "text": [
      "Number_of_reactions:2                     \n",
      "Number_of_species:5                     \n",
      "Number_of_reversible_reactions:0                     \n",
      "Reversible:No                     \n",
      "Reaction_type:Elementary                     \n",
      "Species_list:['N', 'N2', 'H', 'NH', 'NH2']\n",
      "\n"
     ]
    }
   ],
   "source": [
    "# Instantiate class\n",
    "fs = chemkin.ReactionRate()\n",
    "fs.read_XML('files/rxns_species.xml')\n",
    "print(fs)"
   ]
  },
  {
   "cell_type": "code",
   "execution_count": 9,
   "metadata": {},
   "outputs": [
    {
     "name": "stdout",
     "output_type": "stream",
     "text": [
      "Reaction rates:\n"
     ]
    },
    {
     "data": {
      "text/plain": [
       "['N: -3.8568E+05',\n",
       " 'N2: 3.7489E+05',\n",
       " 'H: 3.5330E+05',\n",
       " 'NH: -3.7489E+05',\n",
       " 'NH2: 1.0792E+04']"
      ]
     },
     "execution_count": 9,
     "metadata": {},
     "output_type": "execute_result"
    }
   ],
   "source": [
    "# Specie concentrations\n",
    "conc = [0.5, 1, 1, 2, 0]\n",
    "\n",
    "# Set temperature\n",
    "fs.set_temp(750)\n",
    "\n",
    "# Reaction rate\n",
    "rate = fs.get_reaction_rate(conc)\n",
    "print(\"Reaction rates:\")\n",
    "[s + ': {0:1.4E}'.format(r) for s, r in zip(fs.species_list, rate)]"
   ]
  },
  {
   "cell_type": "markdown",
   "metadata": {
    "slideshow": {
     "slide_type": "-"
    }
   },
   "source": [
    "# 3. New features"
   ]
  },
  {
   "cell_type": "markdown",
   "metadata": {},
   "source": [
    "## Validate conservation of mass"
   ]
  },
  {
   "cell_type": "code",
   "execution_count": 10,
   "metadata": {},
   "outputs": [
    {
     "name": "stdout",
     "output_type": "stream",
     "text": [
      "Number_of_reactions:3                     \n",
      "Number_of_species:6                     \n",
      "Number_of_reversible_reactions:0                     \n",
      "Reversible:No                     \n",
      "Reaction_type:Elementary                     \n",
      "Species_list:['H', 'O', 'OH', 'H2', 'H2O', 'O2']\n",
      "\n"
     ]
    }
   ],
   "source": [
    "# Instantiate class and read data\n",
    "fs = chemkin.ReactionRate()\n",
    "fs.read_XML('files/rxns_base_conservation.xml')\n",
    "print(fs)"
   ]
  },
  {
   "cell_type": "markdown",
   "metadata": {},
   "source": [
    "## Check that species are valid"
   ]
  },
  {
   "cell_type": "code",
   "execution_count": 11,
   "metadata": {},
   "outputs": [
    {
     "ename": "ValueError",
     "evalue": "No data exists in the thermo database for the following species: {'OZ', 'Z'}",
     "output_type": "error",
     "traceback": [
      "\u001b[1;31m---------------------------------------------------------------------------\u001b[0m",
      "\u001b[1;31mValueError\u001b[0m                                Traceback (most recent call last)",
      "\u001b[1;32m<ipython-input-11-22f7fbc55a4b>\u001b[0m in \u001b[0;36m<module>\u001b[1;34m()\u001b[0m\n\u001b[0;32m      1\u001b[0m \u001b[1;31m# Instantiate class and read data\u001b[0m\u001b[1;33m\u001b[0m\u001b[1;33m\u001b[0m\u001b[0m\n\u001b[0;32m      2\u001b[0m \u001b[0mfs\u001b[0m \u001b[1;33m=\u001b[0m \u001b[0mchemkin\u001b[0m\u001b[1;33m.\u001b[0m\u001b[0mReactionRate\u001b[0m\u001b[1;33m(\u001b[0m\u001b[1;33m)\u001b[0m\u001b[1;33m\u001b[0m\u001b[0m\n\u001b[1;32m----> 3\u001b[1;33m \u001b[0mfs\u001b[0m\u001b[1;33m.\u001b[0m\u001b[0mread_XML\u001b[0m\u001b[1;33m(\u001b[0m\u001b[1;34m'files/rxns_base_specie_db.xml'\u001b[0m\u001b[1;33m)\u001b[0m\u001b[1;33m\u001b[0m\u001b[0m\n\u001b[0m\u001b[0;32m      4\u001b[0m \u001b[0mprint\u001b[0m\u001b[1;33m(\u001b[0m\u001b[0mfs\u001b[0m\u001b[1;33m)\u001b[0m\u001b[1;33m\u001b[0m\u001b[0m\n",
      "\u001b[1;32mC:\\Users\\bkley\\Anaconda3\\lib\\site-packages\\flamespeed\\chemkin.py\u001b[0m in \u001b[0;36mread_XML\u001b[1;34m(self, path, verify_integrity, check_mass, convert_units)\u001b[0m\n\u001b[0;32m    208\u001b[0m         \u001b[1;31m# Checks\u001b[0m\u001b[1;33m\u001b[0m\u001b[1;33m\u001b[0m\u001b[0m\n\u001b[0;32m    209\u001b[0m         \u001b[1;32mif\u001b[0m \u001b[0mverify_integrity\u001b[0m\u001b[1;33m:\u001b[0m\u001b[1;33m\u001b[0m\u001b[0m\n\u001b[1;32m--> 210\u001b[1;33m             \u001b[0mparser\u001b[0m\u001b[1;33m.\u001b[0m\u001b[0mcheck_input_file\u001b[0m\u001b[1;33m(\u001b[0m\u001b[0mrxns\u001b[0m\u001b[1;33m,\u001b[0m \u001b[0mcheck_mass\u001b[0m\u001b[1;33m)\u001b[0m\u001b[1;33m\u001b[0m\u001b[0m\n\u001b[0m\u001b[0;32m    211\u001b[0m \u001b[1;33m\u001b[0m\u001b[0m\n\u001b[0;32m    212\u001b[0m         \u001b[1;31m# Get list of species\u001b[0m\u001b[1;33m\u001b[0m\u001b[1;33m\u001b[0m\u001b[0m\n",
      "\u001b[1;32mC:\\Users\\bkley\\Anaconda3\\lib\\site-packages\\flamespeed\\parser.py\u001b[0m in \u001b[0;36mcheck_input_file\u001b[1;34m(self, rxns, check_mass)\u001b[0m\n\u001b[0;32m    276\u001b[0m \u001b[1;33m\u001b[0m\u001b[0m\n\u001b[0;32m    277\u001b[0m         \u001b[1;32mif\u001b[0m \u001b[0mcheck_mass\u001b[0m\u001b[1;33m:\u001b[0m\u001b[1;33m\u001b[0m\u001b[0m\n\u001b[1;32m--> 278\u001b[1;33m             \u001b[0mself\u001b[0m\u001b[1;33m.\u001b[0m\u001b[0mcheck_species_in_db\u001b[0m\u001b[1;33m(\u001b[0m\u001b[1;33m)\u001b[0m\u001b[1;33m\u001b[0m\u001b[0m\n\u001b[0m\u001b[0;32m    279\u001b[0m \u001b[1;33m\u001b[0m\u001b[0m\n\u001b[0;32m    280\u001b[0m     \u001b[1;32mdef\u001b[0m \u001b[0mparse_reaction_rate_params\u001b[0m\u001b[1;33m(\u001b[0m\u001b[0mself\u001b[0m\u001b[1;33m,\u001b[0m \u001b[0mreaction\u001b[0m\u001b[1;33m,\u001b[0m \u001b[0mconvert_units\u001b[0m\u001b[1;33m)\u001b[0m\u001b[1;33m:\u001b[0m\u001b[1;33m\u001b[0m\u001b[0m\n",
      "\u001b[1;32mC:\\Users\\bkley\\Anaconda3\\lib\\site-packages\\flamespeed\\parser.py\u001b[0m in \u001b[0;36mcheck_species_in_db\u001b[1;34m(self)\u001b[0m\n\u001b[0;32m    247\u001b[0m                 \u001b[0md\u001b[0m \u001b[1;33m=\u001b[0m \u001b[0mset\u001b[0m\u001b[1;33m(\u001b[0m\u001b[0mself\u001b[0m\u001b[1;33m.\u001b[0m\u001b[0mspecies\u001b[0m\u001b[1;33m)\u001b[0m \u001b[1;33m-\u001b[0m \u001b[0mset\u001b[0m\u001b[1;33m(\u001b[0m\u001b[0mspecies_db\u001b[0m\u001b[1;33m)\u001b[0m\u001b[1;33m\u001b[0m\u001b[0m\n\u001b[0;32m    248\u001b[0m                 raise ValueError(\"No data exists in the thermo database \" +\n\u001b[1;32m--> 249\u001b[1;33m                                  \"for the following species: {}\".format(d))\n\u001b[0m\u001b[0;32m    250\u001b[0m \u001b[1;33m\u001b[0m\u001b[0m\n\u001b[0;32m    251\u001b[0m     \u001b[1;32mdef\u001b[0m \u001b[0mcheck_input_file\u001b[0m\u001b[1;33m(\u001b[0m\u001b[0mself\u001b[0m\u001b[1;33m,\u001b[0m \u001b[0mrxns\u001b[0m\u001b[1;33m,\u001b[0m \u001b[0mcheck_mass\u001b[0m\u001b[1;33m)\u001b[0m\u001b[1;33m:\u001b[0m\u001b[1;33m\u001b[0m\u001b[0m\n",
      "\u001b[1;31mValueError\u001b[0m: No data exists in the thermo database for the following species: {'OZ', 'Z'}"
     ]
    }
   ],
   "source": [
    "# Instantiate class and read data\n",
    "fs = chemkin.ReactionRate()\n",
    "fs.read_XML('files/rxns_base_specie_db.xml')\n",
    "print(fs)"
   ]
  },
  {
   "cell_type": "code",
   "execution_count": 12,
   "metadata": {},
   "outputs": [
    {
     "name": "stdout",
     "output_type": "stream",
     "text": [
      "Number_of_reactions:3                     \n",
      "Number_of_species:8                     \n",
      "Number_of_reversible_reactions:0                     \n",
      "Reversible:No                     \n",
      "Reaction_type:Elementary                     \n",
      "Species_list:['Z', 'OZ', 'H', 'O', 'OH', 'H2', 'H2O', 'O2']\n",
      "\n"
     ]
    }
   ],
   "source": [
    "# Instantiate class and read data\n",
    "fs = chemkin.ReactionRate()\n",
    "fs.read_XML('files/rxns_base_specie_db.xml', check_mass=False)\n",
    "print(fs)"
   ]
  },
  {
   "cell_type": "markdown",
   "metadata": {
    "collapsed": true
   },
   "source": [
    "### Check self-consistency of XML file"
   ]
  },
  {
   "cell_type": "markdown",
   "metadata": {},
   "source": [
    "#### Example 1"
   ]
  },
  {
   "cell_type": "code",
   "execution_count": 13,
   "metadata": {},
   "outputs": [
    {
     "data": {
      "image/png": "[encoded data removed]",
      "text/plain": [
       "<IPython.core.display.Image object>"
      ]
     },
     "execution_count": 13,
     "metadata": {},
     "output_type": "execute_result"
    }
   ],
   "source": [
    "Image('images/consistency1.png')"
   ]
  },
  {
   "cell_type": "code",
   "execution_count": 14,
   "metadata": {},
   "outputs": [
    {
     "ename": "ValueError",
     "evalue": "Reversible tag inconsistent with reaction equation for reaction id: 1",
     "output_type": "error",
     "traceback": [
      "\u001b[1;31m---------------------------------------------------------------------------\u001b[0m",
      "\u001b[1;31mValueError\u001b[0m                                Traceback (most recent call last)",
      "\u001b[1;32m<ipython-input-14-36d4894f2eb6>\u001b[0m in \u001b[0;36m<module>\u001b[1;34m()\u001b[0m\n\u001b[0;32m      1\u001b[0m \u001b[1;31m# Instantiate class and read data\u001b[0m\u001b[1;33m\u001b[0m\u001b[1;33m\u001b[0m\u001b[0m\n\u001b[0;32m      2\u001b[0m \u001b[0mfs\u001b[0m \u001b[1;33m=\u001b[0m \u001b[0mchemkin\u001b[0m\u001b[1;33m.\u001b[0m\u001b[0mReactionRate\u001b[0m\u001b[1;33m(\u001b[0m\u001b[1;33m)\u001b[0m\u001b[1;33m\u001b[0m\u001b[0m\n\u001b[1;32m----> 3\u001b[1;33m \u001b[0mfs\u001b[0m\u001b[1;33m.\u001b[0m\u001b[0mread_XML\u001b[0m\u001b[1;33m(\u001b[0m\u001b[1;34m'files/rxns_base_consistency_1.xml'\u001b[0m\u001b[1;33m,\u001b[0m \u001b[0mcheck_mass\u001b[0m\u001b[1;33m=\u001b[0m\u001b[1;32mFalse\u001b[0m\u001b[1;33m,\u001b[0m \u001b[0mverify_integrity\u001b[0m\u001b[1;33m=\u001b[0m\u001b[1;32mTrue\u001b[0m\u001b[1;33m)\u001b[0m\u001b[1;33m\u001b[0m\u001b[0m\n\u001b[0m\u001b[0;32m      4\u001b[0m \u001b[0mprint\u001b[0m\u001b[1;33m(\u001b[0m\u001b[0mfs\u001b[0m\u001b[1;33m)\u001b[0m\u001b[1;33m\u001b[0m\u001b[0m\n",
      "\u001b[1;32mC:\\Users\\bkley\\Anaconda3\\lib\\site-packages\\flamespeed\\chemkin.py\u001b[0m in \u001b[0;36mread_XML\u001b[1;34m(self, path, verify_integrity, check_mass, convert_units)\u001b[0m\n\u001b[0;32m    208\u001b[0m         \u001b[1;31m# Checks\u001b[0m\u001b[1;33m\u001b[0m\u001b[1;33m\u001b[0m\u001b[0m\n\u001b[0;32m    209\u001b[0m         \u001b[1;32mif\u001b[0m \u001b[0mverify_integrity\u001b[0m\u001b[1;33m:\u001b[0m\u001b[1;33m\u001b[0m\u001b[0m\n\u001b[1;32m--> 210\u001b[1;33m             \u001b[0mparser\u001b[0m\u001b[1;33m.\u001b[0m\u001b[0mcheck_input_file\u001b[0m\u001b[1;33m(\u001b[0m\u001b[0mrxns\u001b[0m\u001b[1;33m,\u001b[0m \u001b[0mcheck_mass\u001b[0m\u001b[1;33m)\u001b[0m\u001b[1;33m\u001b[0m\u001b[0m\n\u001b[0m\u001b[0;32m    211\u001b[0m \u001b[1;33m\u001b[0m\u001b[0m\n\u001b[0;32m    212\u001b[0m         \u001b[1;31m# Get list of species\u001b[0m\u001b[1;33m\u001b[0m\u001b[1;33m\u001b[0m\u001b[0m\n",
      "\u001b[1;32mC:\\Users\\bkley\\Anaconda3\\lib\\site-packages\\flamespeed\\parser.py\u001b[0m in \u001b[0;36mcheck_input_file\u001b[1;34m(self, rxns, check_mass)\u001b[0m\n\u001b[0;32m    271\u001b[0m         \u001b[0mself\u001b[0m\u001b[1;33m.\u001b[0m\u001b[0mparse_species\u001b[0m\u001b[1;33m(\u001b[0m\u001b[0mrxns\u001b[0m\u001b[1;33m)\u001b[0m\u001b[1;33m\u001b[0m\u001b[0m\n\u001b[0;32m    272\u001b[0m         \u001b[0mself\u001b[0m\u001b[1;33m.\u001b[0m\u001b[0mcheck_reaction_types\u001b[0m\u001b[1;33m(\u001b[0m\u001b[1;33m)\u001b[0m\u001b[1;33m\u001b[0m\u001b[0m\n\u001b[1;32m--> 273\u001b[1;33m         \u001b[0mself\u001b[0m\u001b[1;33m.\u001b[0m\u001b[0mcheck_reaction_consistency\u001b[0m\u001b[1;33m(\u001b[0m\u001b[1;33m)\u001b[0m\u001b[1;33m\u001b[0m\u001b[0m\n\u001b[0m\u001b[0;32m    274\u001b[0m         \u001b[0mself\u001b[0m\u001b[1;33m.\u001b[0m\u001b[0mcheck_species_eq_consistency\u001b[0m\u001b[1;33m(\u001b[0m\u001b[1;33m)\u001b[0m\u001b[1;33m\u001b[0m\u001b[0m\n\u001b[0;32m    275\u001b[0m         \u001b[0mself\u001b[0m\u001b[1;33m.\u001b[0m\u001b[0mcheck_species_stoich_consistency\u001b[0m\u001b[1;33m(\u001b[0m\u001b[1;33m)\u001b[0m\u001b[1;33m\u001b[0m\u001b[0m\n",
      "\u001b[1;32mC:\\Users\\bkley\\Anaconda3\\lib\\site-packages\\flamespeed\\parser.py\u001b[0m in \u001b[0;36mcheck_reaction_consistency\u001b[1;34m(self)\u001b[0m\n\u001b[0;32m    146\u001b[0m             \u001b[1;32mif\u001b[0m \u001b[0mtag\u001b[0m \u001b[1;33m!=\u001b[0m \u001b[0meq\u001b[0m\u001b[1;33m:\u001b[0m\u001b[1;33m\u001b[0m\u001b[0m\n\u001b[0;32m    147\u001b[0m                 raise ValueError(\"Reversible tag inconsistent with reaction \" +\n\u001b[1;32m--> 148\u001b[1;33m                                  \"equation for reaction id: {}\".format(count))\n\u001b[0m\u001b[0;32m    149\u001b[0m \u001b[1;33m\u001b[0m\u001b[0m\n\u001b[0;32m    150\u001b[0m     \u001b[1;32mdef\u001b[0m \u001b[0mcheck_species_eq_consistency\u001b[0m\u001b[1;33m(\u001b[0m\u001b[0mself\u001b[0m\u001b[1;33m)\u001b[0m\u001b[1;33m:\u001b[0m\u001b[1;33m\u001b[0m\u001b[0m\n",
      "\u001b[1;31mValueError\u001b[0m: Reversible tag inconsistent with reaction equation for reaction id: 1"
     ]
    }
   ],
   "source": [
    "# Instantiate class and read data\n",
    "fs = chemkin.ReactionRate()\n",
    "fs.read_XML('files/rxns_base_consistency_1.xml', check_mass=False, verify_integrity=True)\n",
    "print(fs)"
   ]
  },
  {
   "cell_type": "code",
   "execution_count": 15,
   "metadata": {},
   "outputs": [
    {
     "name": "stdout",
     "output_type": "stream",
     "text": [
      "Number_of_reactions:3                     \n",
      "Number_of_species:6                     \n",
      "Number_of_reversible_reactions:1                     \n",
      "Reversible:Some                     \n",
      "Reaction_type:Elementary                     \n",
      "Species_list:['H', 'O', 'OH', 'H2', 'H2O', 'O2']\n",
      "\n"
     ]
    }
   ],
   "source": [
    "# Instantiate class and read data\n",
    "fs = chemkin.ReactionRate()\n",
    "fs.read_XML('files/rxns_base_consistency_1.xml', check_mass=False, verify_integrity=False)\n",
    "print(fs)"
   ]
  },
  {
   "cell_type": "markdown",
   "metadata": {},
   "source": [
    "#### Example 2"
   ]
  },
  {
   "cell_type": "code",
   "execution_count": 16,
   "metadata": {},
   "outputs": [
    {
     "data": {
      "image/png": "[encoded data removed]",
      "text/plain": [
       "<IPython.core.display.Image object>"
      ]
     },
     "execution_count": 16,
     "metadata": {},
     "output_type": "execute_result"
    }
   ],
   "source": [
    "Image('images/consistency2.png')"
   ]
  },
  {
   "cell_type": "code",
   "execution_count": 17,
   "metadata": {},
   "outputs": [
    {
     "ename": "ValueError",
     "evalue": "Specie 'C' listed in reaction equation, not included in species phase array.",
     "output_type": "error",
     "traceback": [
      "\u001b[1;31m---------------------------------------------------------------------------\u001b[0m",
      "\u001b[1;31mValueError\u001b[0m                                Traceback (most recent call last)",
      "\u001b[1;32m<ipython-input-17-48111db34cc1>\u001b[0m in \u001b[0;36m<module>\u001b[1;34m()\u001b[0m\n\u001b[0;32m      1\u001b[0m \u001b[1;31m# Instantiate class and read data\u001b[0m\u001b[1;33m\u001b[0m\u001b[1;33m\u001b[0m\u001b[0m\n\u001b[0;32m      2\u001b[0m \u001b[0mfs\u001b[0m \u001b[1;33m=\u001b[0m \u001b[0mchemkin\u001b[0m\u001b[1;33m.\u001b[0m\u001b[0mReactionRate\u001b[0m\u001b[1;33m(\u001b[0m\u001b[1;33m)\u001b[0m\u001b[1;33m\u001b[0m\u001b[0m\n\u001b[1;32m----> 3\u001b[1;33m \u001b[0mfs\u001b[0m\u001b[1;33m.\u001b[0m\u001b[0mread_XML\u001b[0m\u001b[1;33m(\u001b[0m\u001b[1;34m'files/rxns_base_consistency_2.xml'\u001b[0m\u001b[1;33m,\u001b[0m \u001b[0mcheck_mass\u001b[0m\u001b[1;33m=\u001b[0m\u001b[1;32mFalse\u001b[0m\u001b[1;33m)\u001b[0m\u001b[1;33m\u001b[0m\u001b[0m\n\u001b[0m\u001b[0;32m      4\u001b[0m \u001b[0mprint\u001b[0m\u001b[1;33m(\u001b[0m\u001b[0mfs\u001b[0m\u001b[1;33m)\u001b[0m\u001b[1;33m\u001b[0m\u001b[0m\n",
      "\u001b[1;32mC:\\Users\\bkley\\Anaconda3\\lib\\site-packages\\flamespeed\\chemkin.py\u001b[0m in \u001b[0;36mread_XML\u001b[1;34m(self, path, verify_integrity, check_mass, convert_units)\u001b[0m\n\u001b[0;32m    208\u001b[0m         \u001b[1;31m# Checks\u001b[0m\u001b[1;33m\u001b[0m\u001b[1;33m\u001b[0m\u001b[0m\n\u001b[0;32m    209\u001b[0m         \u001b[1;32mif\u001b[0m \u001b[0mverify_integrity\u001b[0m\u001b[1;33m:\u001b[0m\u001b[1;33m\u001b[0m\u001b[0m\n\u001b[1;32m--> 210\u001b[1;33m             \u001b[0mparser\u001b[0m\u001b[1;33m.\u001b[0m\u001b[0mcheck_input_file\u001b[0m\u001b[1;33m(\u001b[0m\u001b[0mrxns\u001b[0m\u001b[1;33m,\u001b[0m \u001b[0mcheck_mass\u001b[0m\u001b[1;33m)\u001b[0m\u001b[1;33m\u001b[0m\u001b[0m\n\u001b[0m\u001b[0;32m    211\u001b[0m \u001b[1;33m\u001b[0m\u001b[0m\n\u001b[0;32m    212\u001b[0m         \u001b[1;31m# Get list of species\u001b[0m\u001b[1;33m\u001b[0m\u001b[1;33m\u001b[0m\u001b[0m\n",
      "\u001b[1;32mC:\\Users\\bkley\\Anaconda3\\lib\\site-packages\\flamespeed\\parser.py\u001b[0m in \u001b[0;36mcheck_input_file\u001b[1;34m(self, rxns, check_mass)\u001b[0m\n\u001b[0;32m    272\u001b[0m         \u001b[0mself\u001b[0m\u001b[1;33m.\u001b[0m\u001b[0mcheck_reaction_types\u001b[0m\u001b[1;33m(\u001b[0m\u001b[1;33m)\u001b[0m\u001b[1;33m\u001b[0m\u001b[0m\n\u001b[0;32m    273\u001b[0m         \u001b[0mself\u001b[0m\u001b[1;33m.\u001b[0m\u001b[0mcheck_reaction_consistency\u001b[0m\u001b[1;33m(\u001b[0m\u001b[1;33m)\u001b[0m\u001b[1;33m\u001b[0m\u001b[0m\n\u001b[1;32m--> 274\u001b[1;33m         \u001b[0mself\u001b[0m\u001b[1;33m.\u001b[0m\u001b[0mcheck_species_eq_consistency\u001b[0m\u001b[1;33m(\u001b[0m\u001b[1;33m)\u001b[0m\u001b[1;33m\u001b[0m\u001b[0m\n\u001b[0m\u001b[0;32m    275\u001b[0m         \u001b[0mself\u001b[0m\u001b[1;33m.\u001b[0m\u001b[0mcheck_species_stoich_consistency\u001b[0m\u001b[1;33m(\u001b[0m\u001b[1;33m)\u001b[0m\u001b[1;33m\u001b[0m\u001b[0m\n\u001b[0;32m    276\u001b[0m \u001b[1;33m\u001b[0m\u001b[0m\n",
      "\u001b[1;32mC:\\Users\\bkley\\Anaconda3\\lib\\site-packages\\flamespeed\\parser.py\u001b[0m in \u001b[0;36mcheck_species_eq_consistency\u001b[1;34m(self)\u001b[0m\n\u001b[0;32m    179\u001b[0m                     \u001b[1;32mif\u001b[0m \u001b[0mspecie\u001b[0m \u001b[1;32mnot\u001b[0m \u001b[1;32min\u001b[0m \u001b[0mself\u001b[0m\u001b[1;33m.\u001b[0m\u001b[0mspecies\u001b[0m \u001b[1;32mand\u001b[0m \u001b[0mspecie\u001b[0m \u001b[1;33m!=\u001b[0m \u001b[1;34m'M'\u001b[0m\u001b[1;33m:\u001b[0m\u001b[1;33m\u001b[0m\u001b[0m\n\u001b[0;32m    180\u001b[0m                         raise ValueError(\"Specie '{}'\".format(s) +\n\u001b[1;32m--> 181\u001b[1;33m                                          \u001b[1;34m\" listed in reaction equation, not\"\u001b[0m\u001b[1;33m\u001b[0m\u001b[0m\n\u001b[0m\u001b[0;32m    182\u001b[0m                                          \" included in species phase array.\")\n\u001b[0;32m    183\u001b[0m \u001b[1;33m\u001b[0m\u001b[0m\n",
      "\u001b[1;31mValueError\u001b[0m: Specie 'C' listed in reaction equation, not included in species phase array."
     ]
    }
   ],
   "source": [
    "# Instantiate class and read data\n",
    "fs = chemkin.ReactionRate()\n",
    "fs.read_XML('files/rxns_base_consistency_2.xml', check_mass=False)\n",
    "print(fs)"
   ]
  },
  {
   "cell_type": "markdown",
   "metadata": {},
   "source": [
    "#### Example 3"
   ]
  },
  {
   "cell_type": "code",
   "execution_count": 18,
   "metadata": {},
   "outputs": [
    {
     "data": {
      "image/png": "[encoded data removed]",
      "text/plain": [
       "<IPython.core.display.Image object>"
      ]
     },
     "execution_count": 18,
     "metadata": {},
     "output_type": "execute_result"
    }
   ],
   "source": [
    "Image('images/consistency3.png')"
   ]
  },
  {
   "cell_type": "code",
   "execution_count": 19,
   "metadata": {},
   "outputs": [
    {
     "ename": "ValueError",
     "evalue": "Missing data in input file.",
     "output_type": "error",
     "traceback": [
      "\u001b[1;31m---------------------------------------------------------------------------\u001b[0m",
      "\u001b[1;31mValueError\u001b[0m                                Traceback (most recent call last)",
      "\u001b[1;32m<ipython-input-19-daaf87fe34f4>\u001b[0m in \u001b[0;36m<module>\u001b[1;34m()\u001b[0m\n\u001b[0;32m      1\u001b[0m \u001b[1;31m# Instantiate class and read data\u001b[0m\u001b[1;33m\u001b[0m\u001b[1;33m\u001b[0m\u001b[0m\n\u001b[0;32m      2\u001b[0m \u001b[0mfs\u001b[0m \u001b[1;33m=\u001b[0m \u001b[0mchemkin\u001b[0m\u001b[1;33m.\u001b[0m\u001b[0mReactionRate\u001b[0m\u001b[1;33m(\u001b[0m\u001b[1;33m)\u001b[0m\u001b[1;33m\u001b[0m\u001b[0m\n\u001b[1;32m----> 3\u001b[1;33m \u001b[0mfs\u001b[0m\u001b[1;33m.\u001b[0m\u001b[0mread_XML\u001b[0m\u001b[1;33m(\u001b[0m\u001b[1;34m'files/rxns_base_consistency_3.xml'\u001b[0m\u001b[1;33m,\u001b[0m \u001b[0mcheck_mass\u001b[0m\u001b[1;33m=\u001b[0m\u001b[1;32mFalse\u001b[0m\u001b[1;33m)\u001b[0m\u001b[1;33m\u001b[0m\u001b[0m\n\u001b[0m\u001b[0;32m      4\u001b[0m \u001b[0mprint\u001b[0m\u001b[1;33m(\u001b[0m\u001b[0mfs\u001b[0m\u001b[1;33m)\u001b[0m\u001b[1;33m\u001b[0m\u001b[0m\n",
      "\u001b[1;32mC:\\Users\\bkley\\Anaconda3\\lib\\site-packages\\flamespeed\\chemkin.py\u001b[0m in \u001b[0;36mread_XML\u001b[1;34m(self, path, verify_integrity, check_mass, convert_units)\u001b[0m\n\u001b[0;32m    208\u001b[0m         \u001b[1;31m# Checks\u001b[0m\u001b[1;33m\u001b[0m\u001b[1;33m\u001b[0m\u001b[0m\n\u001b[0;32m    209\u001b[0m         \u001b[1;32mif\u001b[0m \u001b[0mverify_integrity\u001b[0m\u001b[1;33m:\u001b[0m\u001b[1;33m\u001b[0m\u001b[0m\n\u001b[1;32m--> 210\u001b[1;33m             \u001b[0mparser\u001b[0m\u001b[1;33m.\u001b[0m\u001b[0mcheck_input_file\u001b[0m\u001b[1;33m(\u001b[0m\u001b[0mrxns\u001b[0m\u001b[1;33m,\u001b[0m \u001b[0mcheck_mass\u001b[0m\u001b[1;33m)\u001b[0m\u001b[1;33m\u001b[0m\u001b[0m\n\u001b[0m\u001b[0;32m    211\u001b[0m \u001b[1;33m\u001b[0m\u001b[0m\n\u001b[0;32m    212\u001b[0m         \u001b[1;31m# Get list of species\u001b[0m\u001b[1;33m\u001b[0m\u001b[1;33m\u001b[0m\u001b[0m\n",
      "\u001b[1;32mC:\\Users\\bkley\\Anaconda3\\lib\\site-packages\\flamespeed\\parser.py\u001b[0m in \u001b[0;36mcheck_input_file\u001b[1;34m(self, rxns, check_mass)\u001b[0m\n\u001b[0;32m    266\u001b[0m         \u001b[1;31m# Initial checks on XML structure\u001b[0m\u001b[1;33m\u001b[0m\u001b[1;33m\u001b[0m\u001b[0m\n\u001b[0;32m    267\u001b[0m         \u001b[0mself\u001b[0m\u001b[1;33m.\u001b[0m\u001b[0mcheck_keys\u001b[0m\u001b[1;33m(\u001b[0m\u001b[1;33m)\u001b[0m\u001b[1;33m\u001b[0m\u001b[0m\n\u001b[1;32m--> 268\u001b[1;33m         \u001b[0mself\u001b[0m\u001b[1;33m.\u001b[0m\u001b[0mcheck_structure\u001b[0m\u001b[1;33m(\u001b[0m\u001b[1;33m)\u001b[0m\u001b[1;33m\u001b[0m\u001b[0m\n\u001b[0m\u001b[0;32m    269\u001b[0m \u001b[1;33m\u001b[0m\u001b[0m\n\u001b[0;32m    270\u001b[0m         \u001b[1;31m# Reaction data consistency checks\u001b[0m\u001b[1;33m\u001b[0m\u001b[1;33m\u001b[0m\u001b[0m\n",
      "\u001b[1;32mC:\\Users\\bkley\\Anaconda3\\lib\\site-packages\\flamespeed\\parser.py\u001b[0m in \u001b[0;36mcheck_structure\u001b[1;34m(self)\u001b[0m\n\u001b[0;32m     87\u001b[0m                     \u001b[0mnum_items\u001b[0m \u001b[1;33m=\u001b[0m \u001b[0mval\u001b[0m\u001b[1;33m\u001b[0m\u001b[0m\n\u001b[0;32m     88\u001b[0m                 \u001b[1;32melif\u001b[0m \u001b[0mnum_items\u001b[0m \u001b[1;33m!=\u001b[0m \u001b[0mval\u001b[0m\u001b[1;33m:\u001b[0m\u001b[1;33m\u001b[0m\u001b[0m\n\u001b[1;32m---> 89\u001b[1;33m                     \u001b[1;32mraise\u001b[0m \u001b[0mValueError\u001b[0m\u001b[1;33m(\u001b[0m\u001b[1;34m\"Missing data in input file.\"\u001b[0m\u001b[1;33m)\u001b[0m\u001b[1;33m\u001b[0m\u001b[0m\n\u001b[0m\u001b[0;32m     90\u001b[0m \u001b[1;33m\u001b[0m\u001b[0m\n\u001b[0;32m     91\u001b[0m     \u001b[1;32mdef\u001b[0m \u001b[0mcheck_reaction_types\u001b[0m\u001b[1;33m(\u001b[0m\u001b[0mself\u001b[0m\u001b[1;33m)\u001b[0m\u001b[1;33m:\u001b[0m\u001b[1;33m\u001b[0m\u001b[0m\n",
      "\u001b[1;31mValueError\u001b[0m: Missing data in input file."
     ]
    }
   ],
   "source": [
    "# Instantiate class and read data\n",
    "fs = chemkin.ReactionRate()\n",
    "fs.read_XML('files/rxns_base_consistency_3.xml', check_mass=False)\n",
    "print(fs)"
   ]
  },
  {
   "cell_type": "code",
   "execution_count": null,
   "metadata": {
    "collapsed": true
   },
   "outputs": [],
   "source": []
  },
  {
   "cell_type": "code",
   "execution_count": null,
   "metadata": {
    "collapsed": true
   },
   "outputs": [],
   "source": []
  }
 ],
 "metadata": {
  "kernelspec": {
   "display_name": "Python 3",
   "language": "python",
   "name": "python3"
  },
  "language_info": {
   "codemirror_mode": {
    "name": "ipython",
    "version": 3
   },
   "file_extension": ".py",
   "mimetype": "text/x-python",
   "name": "python",
   "nbconvert_exporter": "python",
   "pygments_lexer": "ipython3",
   "version": "3.6.1"
  }
 },
 "nbformat": 4,
 "nbformat_minor": 2
}
